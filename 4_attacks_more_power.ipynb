{
 "cells": [
  {
   "cell_type": "code",
   "execution_count": 1,
   "metadata": {},
   "outputs": [],
   "source": [
    "import pandas as pd\n",
    "from sklearn.model_selection import train_test_split, GridSearchCV\n",
    "from sklearn.preprocessing import LabelEncoder\n",
    "from sklearn.ensemble import RandomForestClassifier\n",
    "from sklearn.metrics import accuracy_score, classification_report\n",
    "from imblearn.over_sampling import SMOTE"
   ]
  },
  {
   "cell_type": "code",
   "execution_count": 2,
   "metadata": {},
   "outputs": [],
   "source": [
    "# Загрузка и предварительная обработка данных\n",
    "path = \"DataSets/dataframe_benign_brute_xss_sql.csv\"\n",
    "df = pd.read_csv(path)\n",
    "df.columns = [col.lstrip() for col in df.columns]\n",
    "\n",
    "label_encoder = LabelEncoder()\n",
    "df['Label'] = label_encoder.fit_transform(df['Label'])\n",
    "\n",
    "X = df.drop('Label', axis=1)\n",
    "y = df['Label']"
   ]
  },
  {
   "cell_type": "code",
   "execution_count": 3,
   "metadata": {},
   "outputs": [],
   "source": [
    "# Разделение данных\n",
    "X_train, X_test, y_train, y_test = train_test_split(X, y, test_size=0.7, random_state=42)"
   ]
  },
  {
   "cell_type": "code",
   "execution_count": 4,
   "metadata": {},
   "outputs": [],
   "source": [
    "# Применение SMOTE для оверсэмплинга\n",
    "smote = SMOTE(random_state=42)\n",
    "X_resampled, y_resampled = smote.fit_resample(X_train, y_train)"
   ]
  },
  {
   "cell_type": "code",
   "execution_count": 5,
   "metadata": {},
   "outputs": [],
   "source": [
    "# Настройка гиперпараметров с помощью GridSearchCV\n",
    "param_grid = {\n",
    "    'n_estimators': [100, 200],  # количество деревьев\n",
    "    'max_depth': [10, 20],       # максимальная глубина дерева\n",
    "    # Можно добавить другие параметры для настройки\n",
    "}\n",
    "\n",
    "clf = RandomForestClassifier(random_state=42)\n",
    "grid_search = GridSearchCV(clf, param_grid, cv=3, scoring='accuracy', n_jobs=-1)\n",
    "grid_search.fit(X_resampled, y_resampled)\n",
    "\n",
    "# Лучшая модель из GridSearch\n",
    "best_model = grid_search.best_estimator_"
   ]
  },
  {
   "cell_type": "code",
   "execution_count": 6,
   "metadata": {},
   "outputs": [
    {
     "name": "stdout",
     "output_type": "stream",
     "text": [
      "Лучшая точность с GridSearch: 0.9943354425068395\n",
      "Отчет по классификации:\n",
      "               precision    recall  f1-score   support\n",
      "\n",
      "           0       1.00      1.00      1.00    117633\n",
      "           1       0.76      0.57      0.65      1061\n",
      "           2       1.00      0.69      0.82        13\n",
      "           3       0.36      0.58      0.45       455\n",
      "\n",
      "    accuracy                           0.99    119162\n",
      "   macro avg       0.78      0.71      0.73    119162\n",
      "weighted avg       1.00      0.99      0.99    119162\n",
      "\n"
     ]
    }
   ],
   "source": [
    "# Предсказание и оценка\n",
    "y_pred = best_model.predict(X_test)\n",
    "accuracy = accuracy_score(y_test, y_pred)\n",
    "print(\"Лучшая точность с GridSearch:\", accuracy)\n",
    "print(\"Отчет по классификации:\\n\", classification_report(y_test, y_pred))\n",
    "\n",
    "# print(y.value_counts())\n",
    "# print(y_resampled.value_counts())"
   ]
  },
  {
   "cell_type": "code",
   "execution_count": null,
   "metadata": {},
   "outputs": [],
   "source": []
  }
 ],
 "metadata": {
  "kernelspec": {
   "display_name": "venv",
   "language": "python",
   "name": "python3"
  },
  "language_info": {
   "codemirror_mode": {
    "name": "ipython",
    "version": 3
   },
   "file_extension": ".py",
   "mimetype": "text/x-python",
   "name": "python",
   "nbconvert_exporter": "python",
   "pygments_lexer": "ipython3",
   "version": "3.11.6"
  }
 },
 "nbformat": 4,
 "nbformat_minor": 2
}
