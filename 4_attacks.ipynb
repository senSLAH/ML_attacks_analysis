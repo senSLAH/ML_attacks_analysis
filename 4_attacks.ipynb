{
 "cells": [
  {
   "cell_type": "code",
   "execution_count": 6,
   "metadata": {},
   "outputs": [],
   "source": [
    "import pandas as pd\n",
    "from sklearn.model_selection import train_test_split\n",
    "from sklearn.preprocessing import LabelEncoder\n",
    "from sklearn.ensemble import RandomForestClassifier\n",
    "from sklearn.metrics import accuracy_score, classification_report\n",
    "from imblearn.under_sampling import RandomUnderSampler\n",
    "from sklearn.linear_model import LogisticRegression\n",
    "\n",
    "# Загрузка данных\n",
    "path = \"DataSets/dataframe_benign_brute_xss_sql.csv\"\n",
    "df = pd.read_csv(path)\n",
    "df.columns = [col.lstrip() for col in df.columns]\n",
    "\n",
    "# Преобразование меток классов в числа\n",
    "label_encoder = LabelEncoder()\n",
    "df['Label'] = label_encoder.fit_transform(df['Label'])\n",
    "\n",
    "# Выделение признаков и меток\n",
    "X = df.drop('Label', axis=1)\n",
    "y = df['Label']\n",
    "\n",
    "# Разделение на обучающую и тестовую выборки\n",
    "X_train, X_test, y_train, y_test = train_test_split(X, y, test_size=0.7, random_state=42)\n",
    "\n",
    "# Андерсэмплинг для балансировки классов\n",
    "under_sampler = RandomUnderSampler(random_state=42)\n",
    "X_resampled, y_resampled = under_sampler.fit_resample(X_train, y_train)\n",
    "\n",
    "# Обучение модели\n",
    "# Вы можете выбрать любую модель, здесь пример с LogisticRegression\n",
    "# clf = LogisticRegression(max_iter=1000)\n",
    "clf = RandomForestClassifier(n_estimators=100, random_state=42)\n",
    "clf.fit(X_resampled, y_resampled)\n",
    "\n",
    "# Предсказание на тестовых данных\n",
    "y_pred = clf.predict(X_test)\n",
    "\n"
   ]
  },
  {
   "cell_type": "code",
   "execution_count": 7,
   "metadata": {},
   "outputs": [
    {
     "name": "stdout",
     "output_type": "stream",
     "text": [
      "Точность: 0.8368859200080563\n",
      "Отчет по классификации:\n",
      "               precision    recall  f1-score   support\n",
      "\n",
      "           0       1.00      0.84      0.91    117633\n",
      "           1       0.09      0.47      0.15      1061\n",
      "           2       0.00      1.00      0.00        13\n",
      "           3       0.10      0.55      0.16       455\n",
      "\n",
      "    accuracy                           0.84    119162\n",
      "   macro avg       0.30      0.72      0.31    119162\n",
      "weighted avg       0.99      0.84      0.90    119162\n",
      "\n"
     ]
    }
   ],
   "source": [
    "# Расчет точности и вывод отчета по классификации\n",
    "accuracy = accuracy_score(y_test, y_pred)\n",
    "print(\"Точность:\", accuracy)\n",
    "print(\"Отчет по классификации:\\n\", classification_report(y_test, y_pred))"
   ]
  }
 ],
 "metadata": {
  "kernelspec": {
   "display_name": "venv",
   "language": "python",
   "name": "python3"
  },
  "language_info": {
   "codemirror_mode": {
    "name": "ipython",
    "version": 3
   },
   "file_extension": ".py",
   "mimetype": "text/x-python",
   "name": "python",
   "nbconvert_exporter": "python",
   "pygments_lexer": "ipython3",
   "version": "3.9.6"
  }
 },
 "nbformat": 4,
 "nbformat_minor": 2
}
